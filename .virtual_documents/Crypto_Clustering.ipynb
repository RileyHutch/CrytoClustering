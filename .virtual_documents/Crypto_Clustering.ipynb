# Import required libraries and dependencies
import pandas as pd
import hvplot.pandas
from sklearn.cluster import KMeans
from sklearn.decomposition import PCA
from sklearn.preprocessing import StandardScaler


# Load the data into a Pandas DataFrame
df_market_data = pd.read_csv(
    "Resources/crypto_market_data.csv",
    index_col="coin_id")

# Display sample data
df_market_data.head(10)


# Generate summary statistics
df_market_data.describe()


# Plot your data to see what's in your DataFrame
df_market_data.hvplot.line(
    width=800,
    height=400,
    rot=90
)


for col in df_market_data.columns:
    print(col)








# Use the `StandardScaler()` module from scikit-learn to normalize the data from the CSV file
market_data_scaled = StandardScaler().fit_transform(
    df_market_data[["price_change_percentage_24h", "price_change_percentage_7d", "price_change_percentage_14d", "price_change_percentage_30d", 
                    "price_change_percentage_60d", "price_change_percentage_200d", "price_change_percentage_1y"]]
)


# Create a DataFrame with the scaled data
df_market_data_scaled = pd.DataFrame(
    df_market_data,
    columns=["price_change_percentage_24h", "price_change_percentage_7d", "price_change_percentage_14d", "price_change_percentage_30d", 
                    "price_change_percentage_60d", "price_change_percentage_200d", "price_change_percentage_1y"])

# Copy the crypto names from the original DataFrame
df_market_data_scaled["coin_id"] = df_market_data.index

# Set the coin_id column as index
df_market_data_scaled = df_market_data_scaled.set_index("coin_id")

# Display the scaled DataFrame
df_market_data_scaled.head()








# Create a list with the number of k-values from 1 to 11
k = list(range(1, 11))


# Create an empty list to store the inertia values
inertia = []

# Create a for loop to compute the inertia with each possible value of k
# Inside the loop:
# 1. Create a KMeans model using the loop counter for the n_clusters
# 2. Fit the model to the data using `df_market_data_scaled`
# 3. Append the model.inertia_ to the inertia list
for i in k:
    model = KMeans(n_clusters=i, random_state=0)
    model.fit(df_market_data_scaled)
    inertia.append(model.inertia_)


# Create a dictionary with the data to plot the Elbow curve
elbow_data_k_mean = {
    "k": k,
    "inertia": inertia
}

# Create a DataFrame with the data to plot the Elbow curve
df_elbow_k_mean = pd.DataFrame(elbow_data_k_mean)


# Plot a line chart with all the inertia values computed with
# the different values of k to visually identify the optimal value for k.
elbow_plot_k_mean = df_elbow_k_mean.hvplot.line(x="k", y="inertia", title="Elbow Curve Using k-mean", xticks=k)
elbow_plot_k_mean











# Initialize the K-Means model using the best value for k
best_k =3
kmeans_model = KMeans(n_clusters=best_k)


# Fit the K-Means model using the scaled DataFrame
kmeans_model.fit(df_market_data_scaled)


# Predict the clusters to group the cryptocurrencies using the scaled DataFrame
coin_clusters = kmeans_model.predict(df_market_data_scaled)

# Print the resulting array of cluster values.
print(coin_clusters)


# Create a copy of the scaled DataFrame
df_market_scaled = df_market_data_scaled.copy()



# Add a new column to the copy of the scaled DataFrame with the predicted clusters
df_market_scaled["CoinCluster"] = coin_clusters

# Display the copy of the scaled DataFrame
df_market_scaled.head()


print(df_market_scaled["CoinCluster"].value_counts())



# Create a scatter plot using hvPlot by setting
# `x="price_change_percentage_24h"` and `y="price_change_percentage_7d"`.
# Color the graph points with the labels found using K-Means and
# add the crypto name in the `hover_cols` parameter to identify
# the cryptocurrency represented by each data point.
df_market_scaled.hvplot.scatter(
    x= "price_change_percentage_24h",
    y= "price_change_percentage_7d",
    by= "CoinCluster",
    hover_cols= "coin_id",
    title= "Scatter Plot by Coin k=3"
)








# Create a PCA model instance and set `n_components=3`.
pca = PCA(n_components=best_k)


# Use the PCA model with `fit_transform` to reduce the original scaled DataFrame
# down to three principal components.
df_market_scaled = pca.fit_transform(df_market_scaled)

# View the scaled PCA data
df_market_scaled[:5]


# Retrieve the explained variance to determine how much information
# can be attributed to each principal component.
pca.explained_variance_ratio_


variance = [9.76037275e-01, 2.30283080e-02, 7.48317479e-04]

variance_decimal = [f"{x:.6f}" for x in variance]
print(variance_decimal)





# Create a new DataFrame with the PCA data.
df_market_data_pca = pd.DataFrame(df_market_scaled, columns=["PC1", "PC2", "PC3"])

# Copy the crypto names from the original scaled DataFrame
df_market_data_pca["coin_id"] = df_market_data.index

# Set the coin_id column as index
df_market_data_pca = df_market_data_pca.set_index("coin_id")

# Display the scaled PCA DataFrame
df_market_data_pca.head()








# Create a list with the number of k-values from 1 to 11
k = list(range(1, 11))


# Create an empty list to store the inertia values
inertia = []

# Create a for loop to compute the inertia with each possible value of k
# Inside the loop:
# 1. Create a KMeans model using the loop counter for the n_clusters
# 2. Fit the model to the data using `df_market_data_pca`
# 3. Append the model.inertia_ to the inertia list
for i in k:
    model = KMeans(n_clusters=i, random_state=0)
    model.fit(df_market_data_pca)
    inertia.append(model.inertia_)


# Create a dictionary with the data to plot the Elbow curve
elbow_data_pca = {
    "k": k,
    "inertia": inertia
}
# Create a DataFrame with the data to plot the Elbow curve
df_elbow_pca = pd.DataFrame(elbow_data_pca)


# Plot a line chart with all the inertia values computed with
# the different values of k to visually identify the optimal value for k.
elbow_plot_pca = df_elbow_pca.hvplot.line(x="k", y="inertia", title="Elbow Curve Using PCA Data", xticks=k)
elbow_plot_pca








# Initialize the K-Means model using the best value for k
kmeans_model


# Fit the K-Means model using the PCA data
kmeans_model.fit(df_market_data_pca)


# Predict the clusters to group the cryptocurrencies using the scaled PCA DataFrame
coin_clusters = kmeans_model.predict(df_market_data_pca)

# Print the resulting array of cluster values.
print(coin_clusters)


# Create a copy of the scaled PCA DataFrame
df_market_data_pca_predictions = df_market_data_pca.copy()

# Add a new column to the copy of the PCA DataFrame with the predicted clusters
df_market_data_pca_predictions["CoinClusters"] = coin_clusters

# Display the copy of the scaled PCA DataFrame
df_market_data_pca_predictions.head()


# Create a scatter plot using hvPlot by setting
# `x="PC1"` and `y="PC2"`.
# Color the graph points with the labels found using K-Means and
# add the crypto name in the `hover_cols` parameter to identify
# the cryptocurrency represented by each data point.
df_market_data_pca_predictions.hvplot.scatter(
    x="PC1",
    y="PC2",
    by="CoinClusters",
    hover_cols="coin_id",
    title = "Scatter Plot by Crypto Segment"
)





df_elbow_before = elbow_plot_k_mean
df_elbow_after = elbow_plot_pca

df_elbow_before + df_elbow_after


# Reset df_market_scaled to a DF instead of a numpy array
df_market_scaled = pd.DataFrame(
    market_data_scaled,
    columns=df_market_data.columns,
    index=df_market_data.index
)

# Add the CoinCluster column back in
df_market_scaled["CoinCluster"] = coin_clusters


# Compare s
scatter_before = df_market_data_scaled.hvplot.scatter(
    x= "price_change_percentage_24h",
    y= "price_change_percentage_7d",
    by= "CoinCluster",
    hover_cols= "coin_id",
    title= "Clusters Before PCA k=3"
)
scatter_after = df_market_data_pca_predictions.hvplot.scatter(
    x="PC1",
    y="PC2",
    by="CoinClusters",
    hover_cols="coin_id",
    title = "Clusters After PCA k=3"
)
scatter_before + scatter_after









